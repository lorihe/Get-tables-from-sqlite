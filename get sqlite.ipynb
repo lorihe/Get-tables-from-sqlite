{
 "cells": [
  {
   "cell_type": "code",
   "execution_count": 1,
   "id": "7a79478f",
   "metadata": {},
   "outputs": [],
   "source": [
    "import pandas as pd\n",
    "import sqlite3\n",
    "import os"
   ]
  },
  {
   "cell_type": "code",
   "execution_count": 2,
   "id": "f477d8a6",
   "metadata": {},
   "outputs": [],
   "source": [
    "from library.sb_utils import save_file"
   ]
  },
  {
   "cell_type": "code",
   "execution_count": 68,
   "id": "339a7173",
   "metadata": {},
   "outputs": [],
   "source": [
    "con = sqlite3.connect('World Soccer DB/database.sqlite')"
   ]
  },
  {
   "cell_type": "code",
   "execution_count": 69,
   "id": "8023ab8f",
   "metadata": {},
   "outputs": [],
   "source": [
    "c = con.cursor()"
   ]
  },
  {
   "cell_type": "code",
   "execution_count": 70,
   "id": "2f509f81",
   "metadata": {},
   "outputs": [],
   "source": [
    "c = con.execute('''SELECT name FROM sqlite_master WHERE type ='table';''')"
   ]
  },
  {
   "cell_type": "code",
   "execution_count": 71,
   "id": "97a6c979",
   "metadata": {},
   "outputs": [],
   "source": [
    "table_list = c.fetchall()"
   ]
  },
  {
   "cell_type": "code",
   "execution_count": 73,
   "id": "02aacf11",
   "metadata": {},
   "outputs": [],
   "source": [
    "def save(x):\n",
    "    command = 'SELECT * FROM '+ x\n",
    "    df_x = pd.read_sql(command, con)\n",
    "    modelpath = 'World Soccer DB/from_sql'\n",
    "    save_file(df_x, x + '.csv', modelpath)"
   ]
  },
  {
   "cell_type": "code",
   "execution_count": 74,
   "id": "97bc34ae",
   "metadata": {},
   "outputs": [
    {
     "name": "stdout",
     "output_type": "stream",
     "text": [
      "Writing file.  \"World Soccer DB/from_sql\\betfront.csv\"\n",
      "Writing file.  \"World Soccer DB/from_sql\\football_data.csv\"\n"
     ]
    }
   ],
   "source": [
    "for i in table_list:\n",
    "    save(i[0])"
   ]
  },
  {
   "cell_type": "code",
   "execution_count": 72,
   "id": "7e7df969",
   "metadata": {},
   "outputs": [
    {
     "data": {
      "text/plain": [
       "[('betfront',), ('football_data',)]"
      ]
     },
     "execution_count": 72,
     "metadata": {},
     "output_type": "execute_result"
    }
   ],
   "source": [
    "table_list"
   ]
  },
  {
   "cell_type": "code",
   "execution_count": null,
   "id": "b0519367",
   "metadata": {},
   "outputs": [],
   "source": []
  }
 ],
 "metadata": {
  "kernelspec": {
   "display_name": "Python 3 (ipykernel)",
   "language": "python",
   "name": "python3"
  },
  "language_info": {
   "codemirror_mode": {
    "name": "ipython",
    "version": 3
   },
   "file_extension": ".py",
   "mimetype": "text/x-python",
   "name": "python",
   "nbconvert_exporter": "python",
   "pygments_lexer": "ipython3",
   "version": "3.9.13"
  }
 },
 "nbformat": 4,
 "nbformat_minor": 5
}
