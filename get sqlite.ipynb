{
 "cells": [
  {
   "cell_type": "code",
   "execution_count": 1,
   "id": "7a79478f",
   "metadata": {},
   "outputs": [],
   "source": [
    "import pandas as pd\n",
    "import sqlite3\n",
    "import os"
   ]
  },
  {
   "cell_type": "code",
   "execution_count": 2,
   "id": "f477d8a6",
   "metadata": {},
   "outputs": [],
   "source": [
    "from library.sb_utils import save_file"
   ]
  },
  {
   "cell_type": "code",
   "execution_count": 4,
   "id": "339a7173",
   "metadata": {},
   "outputs": [],
   "source": [
    "con = sqlite3.connect('World Soccer DB/database.sqlite')"
   ]
  },
  {
   "cell_type": "code",
   "execution_count": 12,
   "id": "8dd21615",
   "metadata": {},
   "outputs": [],
   "source": [
    "c = con.cursor()"
   ]
  },
  {
   "cell_type": "code",
   "execution_count": 14,
   "id": "97a6c979",
   "metadata": {},
   "outputs": [],
   "source": [
    "table_list = c.fetchall()"
   ]
  },
  {
   "cell_type": "code",
   "execution_count": 15,
   "id": "02aacf11",
   "metadata": {},
   "outputs": [],
   "source": [
    "def save(x):\n",
    "    command = 'SELECT * FROM '+ x\n",
    "    df_x = pd.read_sql(command, con)\n",
    "    modelpath = 'World Soccer DB/from_sql'\n",
    "    save_file(df_x, x + '.csv', modelpath)"
   ]
  },
  {
   "cell_type": "code",
   "execution_count": 16,
   "id": "97bc34ae",
   "metadata": {},
   "outputs": [],
   "source": [
    "for i in table_list:\n",
    "    save(i[0])"
   ]
  },
  {
   "cell_type": "code",
   "execution_count": null,
   "id": "48786b34",
   "metadata": {},
   "outputs": [],
   "source": []
  }
 ],
 "metadata": {
  "kernelspec": {
   "display_name": "Python 3 (ipykernel)",
   "language": "python",
   "name": "python3"
  },
  "language_info": {
   "codemirror_mode": {
    "name": "ipython",
    "version": 3
   },
   "file_extension": ".py",
   "mimetype": "text/x-python",
   "name": "python",
   "nbconvert_exporter": "python",
   "pygments_lexer": "ipython3",
   "version": "3.9.13"
  }
 },
 "nbformat": 4,
 "nbformat_minor": 5
}
