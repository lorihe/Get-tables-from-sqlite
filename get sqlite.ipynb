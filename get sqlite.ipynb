{
 "cells": [
  {
   "cell_type": "code",
   "execution_count": 51,
   "id": "7a79478f",
   "metadata": {},
   "outputs": [],
   "source": [
    "import pandas as pd\n",
    "import sqlite3\n",
    "import os"
   ]
  },
  {
   "cell_type": "code",
   "execution_count": 53,
   "id": "f477d8a6",
   "metadata": {},
   "outputs": [],
   "source": [
    "from library.sb_utils import save_file"
   ]
  },
  {
   "cell_type": "code",
   "execution_count": 67,
   "id": "339a7173",
   "metadata": {},
   "outputs": [],
   "source": [
    "con = sqlite3.connect('database.sqlite')"
   ]
  },
  {
   "cell_type": "code",
   "execution_count": 70,
   "id": "97a6c979",
   "metadata": {},
   "outputs": [],
   "source": [
    "table_list = c.fetchall()"
   ]
  },
  {
   "cell_type": "code",
   "execution_count": 56,
   "id": "02aacf11",
   "metadata": {},
   "outputs": [],
   "source": [
    "def save(x):\n",
    "    command = 'SELECT * FROM '+ x\n",
    "    df_x = pd.read_sql(command, con)\n",
    "    modelpath = '../from_sql'\n",
    "    save_file(df_x, x + '.csv', modelpath)"
   ]
  },
  {
   "cell_type": "code",
   "execution_count": 75,
   "id": "97bc34ae",
   "metadata": {},
   "outputs": [
    {
     "name": "stdout",
     "output_type": "stream",
     "text": [
      "Writing file.  \"../from_sql\\Country.csv\"\n",
      "A file already exists with this name.\n",
      "\n",
      "Do you want to overwrite? (Y/N)Y\n",
      "Writing file.  \"../from_sql\\League.csv\"\n",
      "Writing file.  \"../from_sql\\Match.csv\"\n",
      "Writing file.  \"../from_sql\\Player.csv\"\n",
      "Writing file.  \"../from_sql\\Player_Attributes.csv\"\n",
      "Writing file.  \"../from_sql\\Team.csv\"\n",
      "Writing file.  \"../from_sql\\Team_Attributes.csv\"\n",
      "Writing file.  \"../from_sql\\sqlite_sequence.csv\"\n"
     ]
    }
   ],
   "source": [
    "for i in table_list:\n",
    "    save(i[0])"
   ]
  }
 ],
 "metadata": {
  "kernelspec": {
   "display_name": "Python 3 (ipykernel)",
   "language": "python",
   "name": "python3"
  },
  "language_info": {
   "codemirror_mode": {
    "name": "ipython",
    "version": 3
   },
   "file_extension": ".py",
   "mimetype": "text/x-python",
   "name": "python",
   "nbconvert_exporter": "python",
   "pygments_lexer": "ipython3",
   "version": "3.9.13"
  }
 },
 "nbformat": 4,
 "nbformat_minor": 5
}
