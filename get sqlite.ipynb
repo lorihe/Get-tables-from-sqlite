{
 "cells": [
  {
   "cell_type": "code",
   "execution_count": 1,
   "id": "7a79478f",
   "metadata": {},
   "outputs": [],
   "source": [
    "import pandas as pd\n",
    "import sqlite3\n",
    "import os"
   ]
  },
  {
   "cell_type": "code",
   "execution_count": 68,
   "id": "339a7173",
   "metadata": {},
   "outputs": [],
   "source": [
    "con = sqlite3.connect('World Soccer DB/database.sqlite')"
   ]
  },
  {
   "cell_type": "code",
   "execution_count": 69,
   "id": "ffd298f7",
   "metadata": {},
   "outputs": [],
   "source": [
    "c = con.cursor()"
   ]
  },
  {
   "cell_type": "code",
   "execution_count": 70,
   "id": "ca17e0b4",
   "metadata": {},
   "outputs": [],
   "source": [
    "c = con.execute('''SELECT name FROM sqlite_master WHERE type ='table';''')"
   ]
  },
  {
   "cell_type": "code",
   "execution_count": 71,
   "id": "97a6c979",
   "metadata": {},
   "outputs": [],
   "source": [
    "table_list = c.fetchall()"
   ]
  },
  {
   "cell_type": "code",
   "execution_count": 75,
   "id": "02aacf11",
   "metadata": {},
   "outputs": [],
   "source": [
    "def save(x):\n",
    "    command = 'SELECT * FROM '+ x\n",
    "    df_x = pd.read_sql(command, con)\n",
    "    modelpath = 'World Soccer DB/from_sql/'\n",
    "    df_x.to_csv(modelpath + x + '.csv', index = False)"
   ]
  },
  {
   "cell_type": "code",
   "execution_count": 76,
   "id": "97bc34ae",
   "metadata": {},
   "outputs": [],
   "source": [
    "for i in table_list:\n",
    "    save(i[0])"
   ]
  },
  {
   "cell_type": "code",
   "execution_count": null,
   "id": "6f05f5a1",
   "metadata": {},
   "outputs": [],
   "source": []
  }
 ],
 "metadata": {
  "kernelspec": {
   "display_name": "Python 3 (ipykernel)",
   "language": "python",
   "name": "python3"
  },
  "language_info": {
   "codemirror_mode": {
    "name": "ipython",
    "version": 3
   },
   "file_extension": ".py",
   "mimetype": "text/x-python",
   "name": "python",
   "nbconvert_exporter": "python",
   "pygments_lexer": "ipython3",
   "version": "3.9.13"
  }
 },
 "nbformat": 4,
 "nbformat_minor": 5
}
